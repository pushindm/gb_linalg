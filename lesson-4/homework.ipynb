{
 "metadata": {
  "language_info": {
   "codemirror_mode": {
    "name": "ipython",
    "version": 3
   },
   "file_extension": ".py",
   "mimetype": "text/x-python",
   "name": "python",
   "nbconvert_exporter": "python",
   "pygments_lexer": "ipython3",
   "version": "3.9.5"
  },
  "orig_nbformat": 2,
  "kernelspec": {
   "name": "python3",
   "display_name": "Python 3.9.5 64-bit"
  },
  "metadata": {
   "interpreter": {
    "hash": "251e81559002ddd7b2bf032dcaac0eab8c07dc3f187a921f1aa359dc2a69befe"
   }
  },
  "interpreter": {
   "hash": "251e81559002ddd7b2bf032dcaac0eab8c07dc3f187a921f1aa359dc2a69befe"
  }
 },
 "nbformat": 4,
 "nbformat_minor": 2,
 "cells": [
  {
   "cell_type": "markdown",
   "source": [
    "<h1>Practical Tasks<h1>"
   ],
   "metadata": {}
  },
  {
   "cell_type": "markdown",
   "source": [
    "<h2>Import modules<h2>"
   ],
   "metadata": {}
  },
  {
   "cell_type": "code",
   "execution_count": 46,
   "source": [
    "import numpy as np"
   ],
   "outputs": [],
   "metadata": {}
  },
  {
   "cell_type": "markdown",
   "source": [
    "<h2>Functions<h2>"
   ],
   "metadata": {}
  },
  {
   "cell_type": "code",
   "execution_count": 47,
   "source": [
    "def if_consistent(A, b, item_num):\r\n",
    "    rgA = np.linalg.matrix_rank(A)\r\n",
    "    b = np.expand_dims(b, axis=1)\r\n",
    "    Ae = np.hstack((A, b)) # Ae - extended matrix\r\n",
    "    rgAe = np.linalg.matrix_rank(Ae)\r\n",
    "    if rgA == rgAe:\r\n",
    "        if rgA == A.shape[1]:\r\n",
    "            print(f'The system ({item_num}) is consistent and exactly determined. One solution')\r\n",
    "        else:\r\n",
    "            print(f'The system ({item_num}) is consistent but underdetermined. Infinite number of solutions')\r\n",
    "    else:\r\n",
    "        print(f'The system ({item_num}) is inconsistent. No solution')\r\n",
    "\r\n",
    "def cramer_method(A, b):\r\n",
    "    detA = np.linalg.det(A)\r\n",
    "    b = np.expand_dims(b, axis=1)\r\n",
    "    var_num = A.shape[0]\r\n",
    "    solution = np.zeros((var_num, 1))\r\n",
    "    for i in range(var_num):\r\n",
    "        temp_mtx = np.copy(A)\r\n",
    "        temp_mtx[:,i] = b[:,0]\r\n",
    "        solution[i] = np.linalg.det(temp_mtx) / detA\r\n",
    "    print(f\"The solution string: {np.array(solution).T}\")"
   ],
   "outputs": [],
   "metadata": {}
  },
  {
   "cell_type": "markdown",
   "source": [
    "<h2>Task 1<h2>"
   ],
   "metadata": {}
  },
  {
   "cell_type": "code",
   "execution_count": 48,
   "source": [
    "# task2\r\n",
    "A = np.array([[3, -1, 1], [2, -5, -3], [1, 1, -1]])\r\n",
    "b = np.array([4, -17, 0])\r\n",
    "if_consistent(A, b, 'a')\r\n",
    "\r\n",
    "A = np.array([[2, -4, 6], [1, -2, 3], [3, -6, 9]])\r\n",
    "b = np.array([1, -2, 5])\r\n",
    "if_consistent(A, b, 'b')\r\n",
    "\r\n",
    "A = np.array([[1, 2, 5], [3, 1, -8]])\r\n",
    "b = np.array([4, -2])\r\n",
    "if_consistent(A, b, 'c')"
   ],
   "outputs": [
    {
     "output_type": "stream",
     "name": "stdout",
     "text": [
      "The system (a) is consistent and exactly determined. One solution\n",
      "The system (b) is inconsistent. No solution\n",
      "The system (c) is consistent but underdetermined. Infinite number of solutions\n"
     ]
    }
   ],
   "metadata": {}
  },
  {
   "cell_type": "code",
   "execution_count": 49,
   "source": [
    "# task 3\r\n",
    "A = np.array([[1, 3, -2, 4], [0, 5, 0, 1], [0, 0, 3, 0], [0, 0, 0, 2]])\r\n",
    "b = np.array([3, 2, 4, 1])\r\n",
    "if_consistent(A, b, '3')"
   ],
   "outputs": [
    {
     "output_type": "stream",
     "name": "stdout",
     "text": [
      "The system (3) is consistent and exactly determined. One solution\n"
     ]
    }
   ],
   "metadata": {}
  },
  {
   "cell_type": "markdown",
   "source": [
    "<h2>Task 2<h2>"
   ],
   "metadata": {}
  },
  {
   "cell_type": "code",
   "execution_count": 50,
   "source": [
    "# task 1\r\n",
    "# a\r\n",
    "A = np.array([[1, -2], [3, -4]])\r\n",
    "b = np.array([1, 7])\r\n",
    "cramer_method(A, b)\r\n",
    "\r\n",
    "# b\r\n",
    "A = np.array([[2, -1, 5], [1, 1, -3], [2, 4, 1]])\r\n",
    "b = np.array([10, -2, 1])\r\n",
    "cramer_method(A, b)"
   ],
   "outputs": [
    {
     "output_type": "stream",
     "name": "stdout",
     "text": [
      "The solution string: [[5. 2.]]\n",
      "The solution string: [[ 2. -1.  1.]]\n"
     ]
    }
   ],
   "metadata": {}
  },
  {
   "cell_type": "code",
   "execution_count": 51,
   "source": [
    "# task 4\r\n",
    "A = np.array([[81, -45, 45], [-45, 50, -15], [45, -15, 38]])\r\n",
    "b = np.array([531, -460, 193])\r\n",
    "\r\n",
    "A_chol = np.linalg.cholesky(A)\r\n",
    "y = np.linalg.solve(A_chol, b)\r\n",
    "x = np.linalg.solve(A_chol.T, y)\r\n",
    "print(x)"
   ],
   "outputs": [
    {
     "output_type": "stream",
     "name": "stdout",
     "text": [
      "[ 6. -5. -4.]\n"
     ]
    }
   ],
   "metadata": {}
  }
 ]
}