{
 "metadata": {
  "language_info": {
   "codemirror_mode": {
    "name": "ipython",
    "version": 3
   },
   "file_extension": ".py",
   "mimetype": "text/x-python",
   "name": "python",
   "nbconvert_exporter": "python",
   "pygments_lexer": "ipython3",
   "version": "3.9.5"
  },
  "orig_nbformat": 2,
  "kernelspec": {
   "name": "python3",
   "display_name": "Python 3.9.5 64-bit"
  },
  "metadata": {
   "interpreter": {
    "hash": "251e81559002ddd7b2bf032dcaac0eab8c07dc3f187a921f1aa359dc2a69befe"
   }
  },
  "interpreter": {
   "hash": "251e81559002ddd7b2bf032dcaac0eab8c07dc3f187a921f1aa359dc2a69befe"
  }
 },
 "nbformat": 4,
 "nbformat_minor": 2,
 "cells": [
  {
   "cell_type": "markdown",
   "source": [
    "<h1>Practical Tasks<h1>"
   ],
   "metadata": {}
  },
  {
   "cell_type": "markdown",
   "source": [
    "<h2>Import modules<h2>"
   ],
   "metadata": {}
  },
  {
   "cell_type": "code",
   "execution_count": 1,
   "source": [
    "import numpy as np"
   ],
   "outputs": [],
   "metadata": {}
  },
  {
   "cell_type": "markdown",
   "source": [
    "<h2>Task 1<h2>"
   ],
   "metadata": {}
  },
  {
   "cell_type": "code",
   "execution_count": 14,
   "source": [
    "# task 1\r\n",
    "A = np.array([[1, 2, 0], [0, 0, 5], [3, -4, 2], [1, 6, 5], [1, 6, 5], [0, 1, 0]])\r\n",
    "\r\n",
    "U, s, W = np.linalg.svd(A)\r\n",
    "V = W.T\r\n",
    "D = np.zeros_like(A, dtype=float)\r\n",
    "D[np.diag_indices(min(A.shape))] = s\r\n",
    "\r\n",
    "print(f'U:\\n{U}')\r\n",
    "print(f'D:\\n{D}')\r\n",
    "print(f'V:\\n{V}')\r\n",
    "np.allclose(A, np.dot(U, np.dot(D, V.T)))"
   ],
   "outputs": [
    {
     "output_type": "stream",
     "name": "stdout",
     "text": [
      "U:\n",
      "[[-0.13379126 -0.15018982 -0.49897485 -0.58823211 -0.58823211 -0.13613587]\n",
      " [-0.28033189  0.54578921  0.64779129 -0.31772114 -0.31772114  0.04473443]\n",
      " [ 0.11537437  0.81693918 -0.54111922  0.10404268  0.10404268  0.0695655 ]\n",
      " [-0.66567551 -0.02407781 -0.12985909  0.63805203 -0.36194797 -0.03628032]\n",
      " [-0.66567551 -0.02407781 -0.12985909 -0.36194797  0.63805203 -0.03628032]\n",
      " [-0.06288809 -0.1049193  -0.06966888 -0.06398946 -0.06398946  0.98589755]]\n",
      "D:\n",
      "[[11.81584782  0.          0.        ]\n",
      " [ 0.          6.14510015  0.        ]\n",
      " [ 0.          0.          2.57361313]\n",
      " [ 0.          0.          0.        ]\n",
      " [ 0.          0.          0.        ]\n",
      " [ 0.          0.          0.        ]]\n",
      "V:\n",
      "[[-0.09470494  0.36654766 -0.92556674]\n",
      " [-0.74307611 -0.64473959 -0.17930075]\n",
      " [-0.66247179  0.67078587  0.33343284]]\n"
     ]
    },
    {
     "output_type": "execute_result",
     "data": {
      "text/plain": [
       "True"
      ]
     },
     "metadata": {},
     "execution_count": 14
    }
   ],
   "metadata": {}
  },
  {
   "cell_type": "code",
   "execution_count": 17,
   "source": [
    "# task 2\r\n",
    "# eucledian norm\r\n",
    "print(f'||A||_E = {D[0][0]} (eucledian norm: extract largest singular value from matrix D)')\r\n",
    "print(f'||A||_E = {np.linalg.norm(A, ord=2)} (eucledian norm: largest singular value via numpy.linalg.norm)')\r\n",
    "\r\n",
    "# frobenius norm\r\n",
    "print(f'||A||_E = {np.sqrt(np.sum(np.square(s)))} (frobenius norm: using matrix D)')\r\n",
    "print(f'||A||_E = {np.linalg.norm(A)} (frobenuis norm: numpy.linalg.norm)')\r\n"
   ],
   "outputs": [
    {
     "output_type": "stream",
     "name": "stdout",
     "text": [
      "||A||_E = 11.815847815828706 (eucledian norm: extract largest singular value from matrix D)\n",
      "||A||_E = 11.815847815828711 (eucledian norm: largest singular value via numpy.linalg.norm)\n",
      "||A||_E = 13.564659966250534 (frobenius norm: using matrix D)\n",
      "||A||_E = 13.564659966250536 (frobenuis norm: numpy.linalg.norm)\n"
     ]
    }
   ],
   "metadata": {}
  }
 ]
}